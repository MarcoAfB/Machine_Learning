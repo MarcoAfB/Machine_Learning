{
 "cells": [
  {
   "cell_type": "code",
   "execution_count": 1,
   "metadata": {},
   "outputs": [],
   "source": [
    "import numpy as np\n",
    "import pandas as pd\n",
    "import Linear_Regression as LR\n",
    "import matplotlib.pyplot as plt\n",
    "from scipy.stats import multivariate_normal"
   ]
  },
  {
   "cell_type": "code",
   "execution_count": 2,
   "metadata": {},
   "outputs": [],
   "source": [
    "a_none = np.array(None)\n",
    "data = pd.read_csv('data.csv')\n",
    "data_train = data[0:500].select_dtypes(include='number')\n",
    "price = data_train['price']\n",
    "data_train = data_train.drop(['price', 'Unnamed: 0.1',\t'Unnamed: 0'], axis=1)\n",
    "data_train.insert(0, 'intersection', pd.DataFrame([1]*len(data_train)))\n",
    "data_train.insert(data_train.shape[1], 'price', price)\n",
    "\n",
    "data_test = data[500:].select_dtypes(include='number')\n",
    "price = data_test['price']\n",
    "data_test = data_test.drop(['price', 'Unnamed: 0.1',\t'Unnamed: 0'], axis=1)\n",
    "data_test.insert(0, 'intersection', pd.DataFrame([1]*len(data_test), index=list(data_test.index)))\n",
    "data_test.insert(data_test.shape[1], 'price', price)\n",
    "x_test = data_test.drop('price', axis=1)\n",
    "y_test = data_test['price']"
   ]
  },
  {
   "cell_type": "code",
   "execution_count": 3,
   "metadata": {},
   "outputs": [],
   "source": [
    "class Polinomial_regression(LR.LR):\n",
    "\n",
    "    def __init__(self, Data, grau, select=[], skip=[]):\n",
    "        Data = np.array(Data)\n",
    "        self.x_non = Data[:, :-1]\n",
    "        self.y = Data[:, -1]\n",
    "        self.x_pol = self.Novas_Var(grau, self.x_non, select=select, skip=skip)\n",
    "        super().__init__(self.x_pol, self.y)\n",
    "\n",
    "    def Novas_Var(self, grau, x=a_none, select=[], skip=[]):\n",
    "        if x.all() == None:\n",
    "            newx = np.ones([self.x.shape[0], (self.x.shape[1]-1)*grau-(len(skip)*grau-(len(skip))) + 1])\n",
    "            x = self.x.copy()\n",
    "            m=0\n",
    "            for i in range(1, self.x.shape[1]):\n",
    "                if len(skip) != 0 and i in skip:\n",
    "                    newx[:, m+1] = x[:,i]\n",
    "                elif select!=None and i in select:\n",
    "                    for j in range(1, grau+1):\n",
    "                        newx[:, m+j] = x[:,i]**j\n",
    "                    m=m+j\n",
    "                else:\n",
    "                    for j in range(1, grau+1):\n",
    "                        newx[:, m+j] = x[:,i]**j\n",
    "                    m=m+j\n",
    "            return newx\n",
    "        else:\n",
    "            x_data = np.array(x).copy()\n",
    "            newx = np.ones([x.shape[0], (x.shape[1]-1)*grau-(len(skip)*grau-(len(skip))) + 1])\n",
    "            m=0\n",
    "            for i in range(1, x.shape[1]):\n",
    "                if len(skip) != 0 and i in skip:\n",
    "                    newx[:, m+1] = x[:,i]\n",
    "                elif len(select)!=0 and i in select:\n",
    "                    for j in range(1, grau+1):\n",
    "                        newx[:, m+j] = x_data[:,i]**j\n",
    "                    m=m+j\n",
    "                else:\n",
    "                    for j in range(1, grau+1):\n",
    "                        newx[:, m+j] = x_data[:,i]**j\n",
    "                    m=m+j\n",
    "            return newx"
   ]
  },
  {
   "cell_type": "code",
   "execution_count": 4,
   "metadata": {},
   "outputs": [
    {
     "data": {
      "text/plain": [
       "2373005372.8328824"
      ]
     },
     "execution_count": 4,
     "metadata": {},
     "output_type": "execute_result"
    }
   ],
   "source": [
    "# Ortogonalizando os dados do treino\n",
    "#data_train_o = LR.gram_schmidt(data_train)\n",
    "pol = Polinomial_regression(data_train, 3, skip=[5])\n",
    "pol.x = LR.gram_schmidt(pd.DataFrame(pol.x)).to_numpy()\n",
    "pol.least_square()\n",
    "pol.MSE()\n",
    "\n",
    "# Elevando as variáveis do data set\n",
    "data_test_polin = pol.Novas_Var(3, x_test.to_numpy(), skip=[5])\n",
    "# Ortogonalizando os dados do treino\n",
    "data_test_polin = LR.gram_schmidt(pd.DataFrame(data_test_polin)).to_numpy()\n",
    "y_hat = pol.prediction(data_test_polin)\n",
    "pol.MSE(y_hat, y_test)"
   ]
  }
 ],
 "metadata": {
  "kernelspec": {
   "display_name": "env",
   "language": "python",
   "name": "python3"
  },
  "language_info": {
   "codemirror_mode": {
    "name": "ipython",
    "version": 3
   },
   "file_extension": ".py",
   "mimetype": "text/x-python",
   "name": "python",
   "nbconvert_exporter": "python",
   "pygments_lexer": "ipython3",
   "version": "3.12.0"
  }
 },
 "nbformat": 4,
 "nbformat_minor": 2
}
