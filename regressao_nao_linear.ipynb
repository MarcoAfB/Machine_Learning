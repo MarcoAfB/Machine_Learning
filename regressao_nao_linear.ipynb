{
 "cells": [
  {
   "cell_type": "code",
   "execution_count": 4,
   "metadata": {},
   "outputs": [],
   "source": [
    "import numpy as np\n",
    "import pandas as pd\n",
    "import Linear_Regression as LR\n",
    "import matplotlib.pyplot as plt\n",
    "from scipy.stats import multivariate_normal"
   ]
  },
  {
   "cell_type": "code",
   "execution_count": 5,
   "metadata": {},
   "outputs": [],
   "source": [
    "a_none = np.array(None)\n",
    "data = pd.read_csv('data.csv')\n",
    "data_train = data[0:500].select_dtypes(include='number')\n",
    "price = data_train['price']\n",
    "data_train = data_train.drop(['price', 'Unnamed: 0.1',\t'Unnamed: 0'], axis=1)\n",
    "data_train.insert(0, 'intersection', pd.DataFrame([1]*len(data_train)))\n",
    "data_train.insert(data_train.shape[1], 'price', price)\n",
    "\n",
    "data_test = data[500:].select_dtypes(include='number')\n",
    "price = data_test['price']\n",
    "data_test = data_test.drop(['price', 'Unnamed: 0.1',\t'Unnamed: 0'], axis=1)\n",
    "data_test.insert(0, 'intersection', pd.DataFrame([1]*len(data_test), index=list(data_test.index)))\n",
    "data_test.insert(data_test.shape[1], 'price', price)\n",
    "x_test = data_test.drop('price', axis=1)\n",
    "y_test = data_test['price']"
   ]
  }
 ],
 "metadata": {
  "kernelspec": {
   "display_name": "env",
   "language": "python",
   "name": "python3"
  },
  "language_info": {
   "codemirror_mode": {
    "name": "ipython",
    "version": 3
   },
   "file_extension": ".py",
   "mimetype": "text/x-python",
   "name": "python",
   "nbconvert_exporter": "python",
   "pygments_lexer": "ipython3",
   "version": "3.12.0"
  }
 },
 "nbformat": 4,
 "nbformat_minor": 2
}
