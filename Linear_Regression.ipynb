{
 "cells": [
  {
   "cell_type": "code",
   "execution_count": 2,
   "metadata": {},
   "outputs": [],
   "source": [
    "import numpy as np\n",
    "import pandas as pd"
   ]
  },
  {
   "cell_type": "code",
   "execution_count": 3,
   "metadata": {},
   "outputs": [
    {
     "data": {
      "text/html": [
       "<div>\n",
       "<style scoped>\n",
       "    .dataframe tbody tr th:only-of-type {\n",
       "        vertical-align: middle;\n",
       "    }\n",
       "\n",
       "    .dataframe tbody tr th {\n",
       "        vertical-align: top;\n",
       "    }\n",
       "\n",
       "    .dataframe thead th {\n",
       "        text-align: right;\n",
       "    }\n",
       "</style>\n",
       "<table border=\"1\" class=\"dataframe\">\n",
       "  <thead>\n",
       "    <tr style=\"text-align: right;\">\n",
       "      <th></th>\n",
       "      <th>price</th>\n",
       "      <th>spec_rating</th>\n",
       "      <th>display_size</th>\n",
       "      <th>resolution_width</th>\n",
       "      <th>resolution_height</th>\n",
       "      <th>warranty</th>\n",
       "    </tr>\n",
       "  </thead>\n",
       "  <tbody>\n",
       "    <tr>\n",
       "      <th>price</th>\n",
       "      <td>1.000000</td>\n",
       "      <td>0.422260</td>\n",
       "      <td>0.151572</td>\n",
       "      <td>0.624682</td>\n",
       "      <td>0.613066</td>\n",
       "      <td>0.069414</td>\n",
       "    </tr>\n",
       "    <tr>\n",
       "      <th>spec_rating</th>\n",
       "      <td>0.422260</td>\n",
       "      <td>1.000000</td>\n",
       "      <td>0.234539</td>\n",
       "      <td>0.291832</td>\n",
       "      <td>0.292554</td>\n",
       "      <td>0.108741</td>\n",
       "    </tr>\n",
       "    <tr>\n",
       "      <th>display_size</th>\n",
       "      <td>0.151572</td>\n",
       "      <td>0.234539</td>\n",
       "      <td>1.000000</td>\n",
       "      <td>0.035445</td>\n",
       "      <td>-0.081852</td>\n",
       "      <td>0.033736</td>\n",
       "    </tr>\n",
       "    <tr>\n",
       "      <th>resolution_width</th>\n",
       "      <td>0.624682</td>\n",
       "      <td>0.291832</td>\n",
       "      <td>0.035445</td>\n",
       "      <td>1.000000</td>\n",
       "      <td>0.794200</td>\n",
       "      <td>0.017427</td>\n",
       "    </tr>\n",
       "    <tr>\n",
       "      <th>resolution_height</th>\n",
       "      <td>0.613066</td>\n",
       "      <td>0.292554</td>\n",
       "      <td>-0.081852</td>\n",
       "      <td>0.794200</td>\n",
       "      <td>1.000000</td>\n",
       "      <td>-0.000770</td>\n",
       "    </tr>\n",
       "    <tr>\n",
       "      <th>warranty</th>\n",
       "      <td>0.069414</td>\n",
       "      <td>0.108741</td>\n",
       "      <td>0.033736</td>\n",
       "      <td>0.017427</td>\n",
       "      <td>-0.000770</td>\n",
       "      <td>1.000000</td>\n",
       "    </tr>\n",
       "  </tbody>\n",
       "</table>\n",
       "</div>"
      ],
      "text/plain": [
       "                      price  spec_rating  display_size  resolution_width  \\\n",
       "price              1.000000     0.422260      0.151572          0.624682   \n",
       "spec_rating        0.422260     1.000000      0.234539          0.291832   \n",
       "display_size       0.151572     0.234539      1.000000          0.035445   \n",
       "resolution_width   0.624682     0.291832      0.035445          1.000000   \n",
       "resolution_height  0.613066     0.292554     -0.081852          0.794200   \n",
       "warranty           0.069414     0.108741      0.033736          0.017427   \n",
       "\n",
       "                   resolution_height  warranty  \n",
       "price                       0.613066  0.069414  \n",
       "spec_rating                 0.292554  0.108741  \n",
       "display_size               -0.081852  0.033736  \n",
       "resolution_width            0.794200  0.017427  \n",
       "resolution_height           1.000000 -0.000770  \n",
       "warranty                   -0.000770  1.000000  "
      ]
     },
     "execution_count": 3,
     "metadata": {},
     "output_type": "execute_result"
    }
   ],
   "source": [
    "data = pd.read_csv('data.csv')\n",
    "data_c = data[0:500]\n",
    "\n",
    "data_c.select_dtypes(include='number').drop(['Unnamed: 0.1', 'Unnamed: 0'], axis=1).corr()"
   ]
  },
  {
   "cell_type": "code",
   "execution_count": 4,
   "metadata": {},
   "outputs": [],
   "source": [
    "'''Criando uma classe contendo algumas ferramentas para executar o least square'''\n",
    "class LR():\n",
    "\n",
    "    def __init__(self, x, y):\n",
    "        self.x = x\n",
    "        self.y = y\n",
    "        \n",
    "    def least_square(self):\n",
    "\n",
    "        # Transpose na matriz com as variáveis\n",
    "        row_x = self.x.T\n",
    "        dot_x = row_x.dot(self.x)\n",
    "        invert_dotx = np.linalg.inv(dot_x)\n",
    "        self.parametros = invert_dotx.dot(row_x).dot(self.y)\n",
    "        \n",
    "        return invert_dotx.dot(row_x).dot(self.y)\n",
    "\n",
    "    def prediction(self, x):\n",
    "        return x.dot(self.parametros)\n",
    "\n",
    "    def MSE(self, x, y): \n",
    "        # Quantia de resultados\n",
    "        n = len(y)  \n",
    "        mse = 0\n",
    "\n",
    "        for i in range(n):\n",
    "            mse = mse + ((self.prediction(x)[i]-y[i])**2)\n",
    "\n",
    "        return mse/n"
   ]
  },
  {
   "cell_type": "code",
   "execution_count": 6,
   "metadata": {},
   "outputs": [
    {
     "name": "stdout",
     "output_type": "stream",
     "text": [
      "2457696370.059881\n"
     ]
    }
   ],
   "source": [
    "# Selecionando a coluna da variável e prediction\n",
    "np_data = data_c[['price', 'spec_rating']].to_numpy()\n",
    "\n",
    "np_x = np_data.T[1]\n",
    "np_y = np_data.T[0]\n",
    "\n",
    "# Adicionando uma coluna com 1 em np_x\n",
    "np_x = np.array([np.ones(500), np_x]).T\n",
    "\n",
    "dim_1 = LR(np_x, np_y) \n",
    "\n",
    "# Parâmetros calculado pelo least squre\n",
    "B = dim_1.least_square()\n",
    "# Prevendo resultado\n",
    "y_hat = dim_1.prediction(np_x)\n",
    "# Mean Square Error testando a qualidade do modelo\n",
    "mse = dim_1.MSE(np_x, np_y)\n",
    "print(mse)"
   ]
  }
 ],
 "metadata": {
  "kernelspec": {
   "display_name": "env",
   "language": "python",
   "name": "python3"
  },
  "language_info": {
   "codemirror_mode": {
    "name": "ipython",
    "version": 3
   },
   "file_extension": ".py",
   "mimetype": "text/x-python",
   "name": "python",
   "nbconvert_exporter": "python",
   "pygments_lexer": "ipython3",
   "version": "3.12.0"
  }
 },
 "nbformat": 4,
 "nbformat_minor": 2
}
