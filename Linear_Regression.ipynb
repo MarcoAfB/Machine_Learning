{
 "cells": [
  {
   "cell_type": "code",
   "execution_count": 2,
   "metadata": {},
   "outputs": [],
   "source": [
    "import numpy as np\n",
    "import pandas as pd\n",
    "import matplotlib.pyplot as plt"
   ]
  },
  {
   "cell_type": "code",
   "execution_count": 3,
   "metadata": {},
   "outputs": [],
   "source": [
    "data = pd.read_csv('data.csv')\n",
    "# Iremos lidar apenas com números\n",
    "data = data.select_dtypes(include='number').drop(['Unnamed: 0.1', 'Unnamed: 0'], axis=1)\n",
    "data_train = data[:500]\n",
    "a_none = np.array(None)"
   ]
  },
  {
   "cell_type": "code",
   "execution_count": 4,
   "metadata": {},
   "outputs": [],
   "source": [
    "'''Criando uma classe contendo algumas ferramentas para executar o least square'''\n",
    "class LR():\n",
    "    def __init__(self, x, y):\n",
    "        self.x = x\n",
    "        self.y = y\n",
    "        self.predictions=a_none\n",
    "        self.parametros=a_none\n",
    "\n",
    "        \n",
    "    def least_square(self):\n",
    "        # Transpose na matrix com as variáveis\n",
    "        row_x = self.x.T\n",
    "        dot_x = row_x.dot(self.x)\n",
    "        invert_dotx = np.linalg.inv(dot_x)\n",
    "        self.parametros = invert_dotx.dot(row_x).dot(self.y)\n",
    "        \n",
    "        return invert_dotx.dot(row_x).dot(self.y)\n",
    "\n",
    "    def prediction(self, x=a_none):\n",
    "        if self.parametros.all() == None:\n",
    "            self.parametros = self.least_square()\n",
    "\n",
    "        if x.all() == None:\n",
    "            self.predictions = self.x.dot(self.parametros)\n",
    "            return self.x.dot(self.parametros)\n",
    "        else:\n",
    "            return x.dot(self.parametros)\n",
    "\n",
    "    def MSE(self, y_hat=a_none, y=a_none): \n",
    "        # Quantia de resultados\n",
    "        if y_hat.all() == None:\n",
    "            self.predictions = self.prediction(self.x)\n",
    "            self.mse = (self.predictions - self.y).T.dot((self.predictions - self.y)) / len(self.y)\n",
    "            return self.mse\n",
    "        \n",
    "        else:\n",
    "            return (y_hat - y).T.dot((y_hat - y)) / len(y)\n",
    "    \n",
    "    '''Uma das formas de tentar selecionar os melhores features\n",
    "    do modelo, assim podemos diminuir a quantia de variáveis'''\n",
    "    def Forward_selection(self, n_feature):\n",
    "        # Manter as dimensão do data-set\n",
    "        axis_x, axis_y = self.x.shape\n",
    "        # Copiar a data-set pois serão feitas alterações nele\n",
    "        x = self.x\n",
    "        # A cada iteração a variável escolhido virá para cá\n",
    "        select_feature = np.ones([axis_x, n_feature+1])\n",
    "\n",
    "        for i in range(1, n_feature+1):\n",
    "\n",
    "            predict = np.inf\n",
    "\n",
    "            # Mantém a primeira coluna para o intercept e das variáveis já selecionadas\n",
    "            feature = np.array(select_feature[:,:i+1])\n",
    "            select = 0\n",
    "            for j in range(1, axis_y-i+1):\n",
    "\n",
    "                feature[:, i] = x[:, j]\n",
    "                mse = LR(feature, self.y).MSE()\n",
    "                # Encontra a variável que produziu menor mse\n",
    "                if (mse < predict):\n",
    "                    predict = mse\n",
    "                    select = j\n",
    "            \n",
    "            # Variável escolhida é adicionada ao data-set das escolhas\n",
    "            select_feature[:, i] = x[:, select]\n",
    "            # Variável escolhida é excluída do data-set das buscas\n",
    "            x = np.delete(x, select, axis=1)\n",
    "\n",
    "        return select_feature\n",
    "    \n",
    "\n",
    "    def Backward_selection(self, n_feature):\n",
    "        # n_feature demonstra quantia de feature deleted\n",
    "        \n",
    "        # Manter as dimensão do data-set\n",
    "        axis_x, axis_y = self.x.shape\n",
    "        # Copiar a data-set pois serão feitas alterações nele\n",
    "        x = self.x\n",
    "        # A quantia de feature que teremos no data-set\n",
    "        select_feature = axis_y - n_feature\n",
    "\n",
    "        for i in range(1, select_feature):\n",
    "            predict = -np.inf\n",
    "            select = 0\n",
    "         \n",
    "            for j in range(1, axis_y-i+1):\n",
    "\n",
    "                feature = np.delete(x, j, axis=1)\n",
    "                mse = LR(feature, self.y).MSE()\n",
    "                # Encontra a variável que produziu maior mse\n",
    "                if (mse > predict):\n",
    "                    predict = mse\n",
    "                    select = j\n",
    "            \n",
    "            # Variável com maior mse é excluída do data-set\n",
    "            x = np.delete(x, select, axis=1)\n",
    "\n",
    "        return x"
   ]
  },
  {
   "cell_type": "code",
   "execution_count": 5,
   "metadata": {},
   "outputs": [
    {
     "name": "stdout",
     "output_type": "stream",
     "text": [
      "2457696370.0598817\n"
     ]
    }
   ],
   "source": [
    "# Selecionando a coluna da variável e prediction\n",
    "np_data = data_train[['price', 'spec_rating']].to_numpy()\n",
    "\n",
    "np_x = np_data.T[1]\n",
    "np_y = np_data.T[0]\n",
    "\n",
    "# Adicionando uma coluna com 1 em np_x\n",
    "np_x = np.array([np.ones(500), np_x]).T\n",
    "\n",
    "dim_1 = LR(np_x, np_y) \n",
    "\n",
    "# Parâmetros calculado pelo least squre\n",
    "B = dim_1.least_square()\n",
    "# Prevendo resultado\n",
    "y_hat = dim_1.prediction()\n",
    "# Mean Square Error testando a qualidade do modelo\n",
    "mse_dim1 = dim_1.MSE()\n",
    "print(mse_dim1)"
   ]
  },
  {
   "cell_type": "code",
   "execution_count": 6,
   "metadata": {},
   "outputs": [],
   "source": [
    "'''A equação least square para mais de uma variável não é a mesma casos os dados\n",
    "não sejam transformados, no least square há uma operação entre variáveis chamada\n",
    "inner product que resultam em 0 casos os dados são ortogonais, assim iremos transforma-los\n",
    "em ortogonais para aproveitar a mesma equação do caso com 1 dimensão'''\n",
    "\n",
    "def residual(u, v):\n",
    "    return u - (projection(u, v))\n",
    "\n",
    "def projection(u, v):\n",
    "    return (np.dot(u,v) / np.dot(v,v)) * v\n",
    "\n",
    "# Função para deixar os dados ortogonais\n",
    "def gram_schmidt(dataset):\n",
    "\n",
    "    orthogonal = pd.DataFrame()\n",
    "    colunas = dataset.columns\n",
    "\n",
    "    for i in range(len(colunas)):\n",
    "        v = dataset.iloc[:, i]\n",
    "        for j in range(i):\n",
    "            proj = projection(dataset.iloc[:, i], orthogonal.iloc[:, j])\n",
    "            v = v - proj\n",
    "        orthogonal[colunas[i]] = v \n",
    "    return orthogonal"
   ]
  },
  {
   "cell_type": "code",
   "execution_count": 7,
   "metadata": {},
   "outputs": [
    {
     "data": {
      "text/html": [
       "<div>\n",
       "<style scoped>\n",
       "    .dataframe tbody tr th:only-of-type {\n",
       "        vertical-align: middle;\n",
       "    }\n",
       "\n",
       "    .dataframe tbody tr th {\n",
       "        vertical-align: top;\n",
       "    }\n",
       "\n",
       "    .dataframe thead th {\n",
       "        text-align: right;\n",
       "    }\n",
       "</style>\n",
       "<table border=\"1\" class=\"dataframe\">\n",
       "  <thead>\n",
       "    <tr style=\"text-align: right;\">\n",
       "      <th></th>\n",
       "      <th>price</th>\n",
       "      <th>spec_rating</th>\n",
       "      <th>display_size</th>\n",
       "      <th>resolution_width</th>\n",
       "      <th>resolution_height</th>\n",
       "      <th>warranty</th>\n",
       "    </tr>\n",
       "  </thead>\n",
       "  <tbody>\n",
       "    <tr>\n",
       "      <th>0</th>\n",
       "      <td>49900</td>\n",
       "      <td>73.000000</td>\n",
       "      <td>15.6</td>\n",
       "      <td>1920.0</td>\n",
       "      <td>1080.0</td>\n",
       "      <td>1</td>\n",
       "    </tr>\n",
       "    <tr>\n",
       "      <th>1</th>\n",
       "      <td>39900</td>\n",
       "      <td>60.000000</td>\n",
       "      <td>15.6</td>\n",
       "      <td>1920.0</td>\n",
       "      <td>1080.0</td>\n",
       "      <td>1</td>\n",
       "    </tr>\n",
       "    <tr>\n",
       "      <th>2</th>\n",
       "      <td>26990</td>\n",
       "      <td>69.323529</td>\n",
       "      <td>14.0</td>\n",
       "      <td>1920.0</td>\n",
       "      <td>1080.0</td>\n",
       "      <td>1</td>\n",
       "    </tr>\n",
       "    <tr>\n",
       "      <th>3</th>\n",
       "      <td>59729</td>\n",
       "      <td>66.000000</td>\n",
       "      <td>14.0</td>\n",
       "      <td>2240.0</td>\n",
       "      <td>1400.0</td>\n",
       "      <td>1</td>\n",
       "    </tr>\n",
       "    <tr>\n",
       "      <th>4</th>\n",
       "      <td>69990</td>\n",
       "      <td>69.323529</td>\n",
       "      <td>13.3</td>\n",
       "      <td>2560.0</td>\n",
       "      <td>1600.0</td>\n",
       "      <td>1</td>\n",
       "    </tr>\n",
       "    <tr>\n",
       "      <th>...</th>\n",
       "      <td>...</td>\n",
       "      <td>...</td>\n",
       "      <td>...</td>\n",
       "      <td>...</td>\n",
       "      <td>...</td>\n",
       "      <td>...</td>\n",
       "    </tr>\n",
       "    <tr>\n",
       "      <th>495</th>\n",
       "      <td>59900</td>\n",
       "      <td>69.323529</td>\n",
       "      <td>15.6</td>\n",
       "      <td>1920.0</td>\n",
       "      <td>1080.0</td>\n",
       "      <td>1</td>\n",
       "    </tr>\n",
       "    <tr>\n",
       "      <th>496</th>\n",
       "      <td>55990</td>\n",
       "      <td>69.323529</td>\n",
       "      <td>14.0</td>\n",
       "      <td>1920.0</td>\n",
       "      <td>1080.0</td>\n",
       "      <td>1</td>\n",
       "    </tr>\n",
       "    <tr>\n",
       "      <th>497</th>\n",
       "      <td>19990</td>\n",
       "      <td>69.323529</td>\n",
       "      <td>15.6</td>\n",
       "      <td>1920.0</td>\n",
       "      <td>1080.0</td>\n",
       "      <td>1</td>\n",
       "    </tr>\n",
       "    <tr>\n",
       "      <th>498</th>\n",
       "      <td>47990</td>\n",
       "      <td>63.000000</td>\n",
       "      <td>14.0</td>\n",
       "      <td>2160.0</td>\n",
       "      <td>1440.0</td>\n",
       "      <td>1</td>\n",
       "    </tr>\n",
       "    <tr>\n",
       "      <th>499</th>\n",
       "      <td>112990</td>\n",
       "      <td>72.000000</td>\n",
       "      <td>13.3</td>\n",
       "      <td>1080.0</td>\n",
       "      <td>1920.0</td>\n",
       "      <td>1</td>\n",
       "    </tr>\n",
       "  </tbody>\n",
       "</table>\n",
       "<p>500 rows × 6 columns</p>\n",
       "</div>"
      ],
      "text/plain": [
       "      price  spec_rating  display_size  resolution_width  resolution_height  \\\n",
       "0     49900    73.000000          15.6            1920.0             1080.0   \n",
       "1     39900    60.000000          15.6            1920.0             1080.0   \n",
       "2     26990    69.323529          14.0            1920.0             1080.0   \n",
       "3     59729    66.000000          14.0            2240.0             1400.0   \n",
       "4     69990    69.323529          13.3            2560.0             1600.0   \n",
       "..      ...          ...           ...               ...                ...   \n",
       "495   59900    69.323529          15.6            1920.0             1080.0   \n",
       "496   55990    69.323529          14.0            1920.0             1080.0   \n",
       "497   19990    69.323529          15.6            1920.0             1080.0   \n",
       "498   47990    63.000000          14.0            2160.0             1440.0   \n",
       "499  112990    72.000000          13.3            1080.0             1920.0   \n",
       "\n",
       "     warranty  \n",
       "0           1  \n",
       "1           1  \n",
       "2           1  \n",
       "3           1  \n",
       "4           1  \n",
       "..        ...  \n",
       "495         1  \n",
       "496         1  \n",
       "497         1  \n",
       "498         1  \n",
       "499         1  \n",
       "\n",
       "[500 rows x 6 columns]"
      ]
     },
     "execution_count": 7,
     "metadata": {},
     "output_type": "execute_result"
    }
   ],
   "source": [
    "# Data com mais de 1 variável\n",
    "data_train"
   ]
  },
  {
   "cell_type": "code",
   "execution_count": 8,
   "metadata": {},
   "outputs": [
    {
     "data": {
      "text/html": [
       "<div>\n",
       "<style scoped>\n",
       "    .dataframe tbody tr th:only-of-type {\n",
       "        vertical-align: middle;\n",
       "    }\n",
       "\n",
       "    .dataframe tbody tr th {\n",
       "        vertical-align: top;\n",
       "    }\n",
       "\n",
       "    .dataframe thead th {\n",
       "        text-align: right;\n",
       "    }\n",
       "</style>\n",
       "<table border=\"1\" class=\"dataframe\">\n",
       "  <thead>\n",
       "    <tr style=\"text-align: right;\">\n",
       "      <th></th>\n",
       "      <th>price</th>\n",
       "      <th>spec_rating</th>\n",
       "      <th>display_size</th>\n",
       "      <th>resolution_width</th>\n",
       "      <th>resolution_height</th>\n",
       "      <th>warranty</th>\n",
       "    </tr>\n",
       "  </thead>\n",
       "  <tbody>\n",
       "    <tr>\n",
       "      <th>0</th>\n",
       "      <td>49900</td>\n",
       "      <td>42.026128</td>\n",
       "      <td>-0.581678</td>\n",
       "      <td>-108.583224</td>\n",
       "      <td>-64.154312</td>\n",
       "      <td>-0.089732</td>\n",
       "    </tr>\n",
       "    <tr>\n",
       "      <th>1</th>\n",
       "      <td>39900</td>\n",
       "      <td>35.233317</td>\n",
       "      <td>2.294516</td>\n",
       "      <td>128.732709</td>\n",
       "      <td>28.460823</td>\n",
       "      <td>0.022862</td>\n",
       "    </tr>\n",
       "    <tr>\n",
       "      <th>2</th>\n",
       "      <td>26990</td>\n",
       "      <td>52.570327</td>\n",
       "      <td>-1.466991</td>\n",
       "      <td>113.034744</td>\n",
       "      <td>-58.454783</td>\n",
       "      <td>-0.012584</td>\n",
       "    </tr>\n",
       "    <tr>\n",
       "      <th>3</th>\n",
       "      <td>59729</td>\n",
       "      <td>28.925082</td>\n",
       "      <td>-0.558172</td>\n",
       "      <td>352.132971</td>\n",
       "      <td>92.852173</td>\n",
       "      <td>0.021250</td>\n",
       "    </tr>\n",
       "    <tr>\n",
       "      <th>4</th>\n",
       "      <td>69990</td>\n",
       "      <td>25.879415</td>\n",
       "      <td>-1.955616</td>\n",
       "      <td>612.913343</td>\n",
       "      <td>82.849719</td>\n",
       "      <td>0.013045</td>\n",
       "    </tr>\n",
       "    <tr>\n",
       "      <th>...</th>\n",
       "      <td>...</td>\n",
       "      <td>...</td>\n",
       "      <td>...</td>\n",
       "      <td>...</td>\n",
       "      <td>...</td>\n",
       "      <td>...</td>\n",
       "    </tr>\n",
       "    <tr>\n",
       "      <th>495</th>\n",
       "      <td>59900</td>\n",
       "      <td>32.142468</td>\n",
       "      <td>0.294784</td>\n",
       "      <td>-92.923241</td>\n",
       "      <td>-48.202254</td>\n",
       "      <td>-0.057162</td>\n",
       "    </tr>\n",
       "    <tr>\n",
       "      <th>496</th>\n",
       "      <td>55990</td>\n",
       "      <td>34.569479</td>\n",
       "      <td>-1.324436</td>\n",
       "      <td>-3.286348</td>\n",
       "      <td>-81.604057</td>\n",
       "      <td>-0.010939</td>\n",
       "    </tr>\n",
       "    <tr>\n",
       "      <th>497</th>\n",
       "      <td>19990</td>\n",
       "      <td>56.915359</td>\n",
       "      <td>0.098599</td>\n",
       "      <td>67.158648</td>\n",
       "      <td>-16.344064</td>\n",
       "      <td>-0.059426</td>\n",
       "    </tr>\n",
       "    <tr>\n",
       "      <th>498</th>\n",
       "      <td>47990</td>\n",
       "      <td>33.211701</td>\n",
       "      <td>0.059203</td>\n",
       "      <td>364.727842</td>\n",
       "      <td>202.802435</td>\n",
       "      <td>0.049160</td>\n",
       "    </tr>\n",
       "    <tr>\n",
       "      <th>499</th>\n",
       "      <td>112990</td>\n",
       "      <td>1.864973</td>\n",
       "      <td>-2.346520</td>\n",
       "      <td>-1080.163831</td>\n",
       "      <td>1110.506874</td>\n",
       "      <td>0.026450</td>\n",
       "    </tr>\n",
       "  </tbody>\n",
       "</table>\n",
       "<p>500 rows × 6 columns</p>\n",
       "</div>"
      ],
      "text/plain": [
       "      price  spec_rating  display_size  resolution_width  resolution_height  \\\n",
       "0     49900    42.026128     -0.581678       -108.583224         -64.154312   \n",
       "1     39900    35.233317      2.294516        128.732709          28.460823   \n",
       "2     26990    52.570327     -1.466991        113.034744         -58.454783   \n",
       "3     59729    28.925082     -0.558172        352.132971          92.852173   \n",
       "4     69990    25.879415     -1.955616        612.913343          82.849719   \n",
       "..      ...          ...           ...               ...                ...   \n",
       "495   59900    32.142468      0.294784        -92.923241         -48.202254   \n",
       "496   55990    34.569479     -1.324436         -3.286348         -81.604057   \n",
       "497   19990    56.915359      0.098599         67.158648         -16.344064   \n",
       "498   47990    33.211701      0.059203        364.727842         202.802435   \n",
       "499  112990     1.864973     -2.346520      -1080.163831        1110.506874   \n",
       "\n",
       "     warranty  \n",
       "0   -0.089732  \n",
       "1    0.022862  \n",
       "2   -0.012584  \n",
       "3    0.021250  \n",
       "4    0.013045  \n",
       "..        ...  \n",
       "495 -0.057162  \n",
       "496 -0.010939  \n",
       "497 -0.059426  \n",
       "498  0.049160  \n",
       "499  0.026450  \n",
       "\n",
       "[500 rows x 6 columns]"
      ]
     },
     "execution_count": 8,
     "metadata": {},
     "output_type": "execute_result"
    }
   ],
   "source": [
    "multi_data  = gram_schmidt(data_train)\n",
    "# Os mesmos dados depois da ortogonalizados\n",
    "multi_data"
   ]
  },
  {
   "cell_type": "code",
   "execution_count": 9,
   "metadata": {},
   "outputs": [
    {
     "data": {
      "text/plain": [
       "7.38766964269999e-11"
      ]
     },
     "execution_count": 9,
     "metadata": {},
     "output_type": "execute_result"
    }
   ],
   "source": [
    "# inner product entre as duas colunas resultando em um valor bem próximo de 0\n",
    "sum(multi_data.iloc[:,4] * multi_data.iloc[:,2])"
   ]
  },
  {
   "cell_type": "code",
   "execution_count": 10,
   "metadata": {},
   "outputs": [
    {
     "name": "stdout",
     "output_type": "stream",
     "text": [
      "MSE test:  26189451.566836577\n",
      "erro médio : 7.054046990610018e-16\n"
     ]
    }
   ],
   "source": [
    "# Separando as variáveis do predictor\n",
    "x = multi_data.iloc[:,1:]\n",
    "\n",
    "train_data = np.ones([500, 6])\n",
    "train_data[:, 1:] = x\n",
    "\n",
    "multi_dim = LR(train_data, np_y)\n",
    "\n",
    "BB = multi_dim.least_square()\n",
    "yy_hat = multi_dim.prediction(train_data)\n",
    "mse_mult = multi_dim.MSE(yy_hat, np_y)\n",
    "print(\"MSE test: \",mse_mult)\n",
    "\n",
    "# Para melhor interpretação podemos usar o erro médio\n",
    "erro_medio = np.mean(np_y - yy_hat) / np.mean(np_y)\n",
    "print(\"erro médio :\", erro_medio) "
   ]
  },
  {
   "cell_type": "code",
   "execution_count": 11,
   "metadata": {},
   "outputs": [
    {
     "data": {
      "text/plain": [
       "<matplotlib.legend.Legend at 0x1793a6bee70>"
      ]
     },
     "execution_count": 11,
     "metadata": {},
     "output_type": "execute_result"
    },
    {
     "data": {
      "image/png": "[encoded data removed]",
      "text/plain": [
       "<Figure size 1000x500 with 1 Axes>"
      ]
     },
     "metadata": {},
     "output_type": "display_data"
    }
   ],
   "source": [
    "'''MSE não é a melhor métrica para interpretar a qualidade do modelo (outro problema para nós é a \n",
    "moeda utilizada, a escala é maior que o acostumado com o real). Uma solução seria criar métricas\n",
    "que podemos interpretar, e em alguns casos figuras também podem podem ajudar na interpretação.\n",
    "Foram selecionados os 50 primeiros dados para que coubessem na imagem, podemos ver que o modelo se sai \n",
    "bem em prever os preços'''\n",
    "\n",
    "plt.figure(figsize=(10,5))\n",
    "plt.scatter(range(50), yy_hat[:50], label='Previsto')\n",
    "plt.scatter(range(50), np_y[:50], label='Observado')\n",
    "plt.legend()"
   ]
  },
  {
   "cell_type": "code",
   "execution_count": 12,
   "metadata": {},
   "outputs": [
    {
     "name": "stdout",
     "output_type": "stream",
     "text": [
      "MSE test:  475340050.5946491\n",
      "erro médio : -0.17860955109236365\n"
     ]
    }
   ],
   "source": [
    "data_test = data[500:]\n",
    "data_test = gram_schmidt(data_test)\n",
    "# Separando as variáveis do predictor\n",
    "x_test = data_test.iloc[:,1:]\n",
    "\n",
    "y_test = data_test.iloc[:,0].to_numpy()\n",
    "x_test = np.append(np.ones([len(x_test), 1]), x_test.to_numpy(), axis=1)\n",
    "\n",
    "prediction_test = multi_dim.prediction(x_test)\n",
    "mse_test = multi_dim.MSE(prediction_test, y_test)\n",
    "print(\"MSE test: \", mse_test)\n",
    "\n",
    "# Para melhor interpretação podemos usar o erro médio\n",
    "erro_medio = np.mean(prediction_test - y_test) / np.mean(y_test)\n",
    "print(\"erro médio :\", erro_medio) \n",
    "# Um erro de mais ou menos 17%"
   ]
  },
  {
   "cell_type": "code",
   "execution_count": 13,
   "metadata": {},
   "outputs": [
    {
     "data": {
      "text/plain": [
       "<matplotlib.legend.Legend at 0x1793a282180>"
      ]
     },
     "execution_count": 13,
     "metadata": {},
     "output_type": "execute_result"
    },
    {
     "data": {
      "image/png": "[encoded data removed]",
      "text/plain": [
       "<Figure size 1000x500 with 1 Axes>"
      ]
     },
     "metadata": {},
     "output_type": "display_data"
    }
   ],
   "source": [
    "'''Pelo erro médio já podemos ter uma ideia que a previsão nos dados observados\n",
    "terão uma queda de qualidade em relação aos dados do treino (coisa que não poderia\n",
    "acontecer de forma tão brusca como ocorreu)'''\n",
    "plt.figure(figsize=(10,5))\n",
    "plt.scatter(range(50), prediction_test[:50], label='Previsto')\n",
    "plt.scatter(range(50), y_test[:50], label='Observado')\n",
    "plt.legend()"
   ]
  },
  {
   "cell_type": "code",
   "execution_count": 25,
   "metadata": {},
   "outputs": [
    {
     "name": "stdout",
     "output_type": "stream",
     "text": [
      "MSE test com 1 variáveis: 61368615.93835387\n",
      "Erro médio com 1 variáveis: 2.3932649364346808e-17\n",
      "\n",
      "MSE test com 2 variáveis: 30205907.462179832\n",
      "Erro médio com 2 variáveis: 2.456138845781694e-16\n",
      "\n",
      "MSE test com 3 variáveis: 27751978.69557727\n",
      "Erro médio com 3 variáveis: 4.666866626047628e-16\n",
      "\n",
      "MSE test com 4 variáveis: 26781508.362067297\n",
      "Erro médio com 4 variáveis: -2.07686719907552e-16\n",
      "\n"
     ]
    }
   ],
   "source": [
    "'''Podemos usar técnicas que buscam restringir o modelo tirar sua complexidade para que ele possa\n",
    "generalizar melhor nos dados ainda não observados'''\n",
    "mse_for = np.ones([len(train_data[0])-2, 1])\n",
    "\n",
    "for i in range(1,len(train_data[0])-1):\n",
    "    data_forward = multi_dim.Forward_selection(i)\n",
    "    test_forward = LR(data_forward, np_y)\n",
    "\n",
    "    BB_forward = test_forward.least_square()\n",
    "    hat_forward = test_forward.prediction(data_forward)\n",
    "    mse_forward = test_forward.MSE(hat_forward, np_y)\n",
    "    print(f\"MSE test com {i} variáveis: {mse_forward}\")\n",
    "\n",
    "    # Para melhor interpretação podemos usar o erro médio\n",
    "    erro_medio = np.mean(np_y - hat_forward) / np.mean(np_y)\n",
    "    print(f\"Erro médio com {i} variáveis: {erro_medio}\\n\")\n",
    "    mse_for[i-1] =  mse_forward"
   ]
  },
  {
   "cell_type": "code",
   "execution_count": 32,
   "metadata": {},
   "outputs": [
    {
     "data": {
      "text/plain": [
       "[<matplotlib.lines.Line2D at 0x1793cf14770>]"
      ]
     },
     "execution_count": 32,
     "metadata": {},
     "output_type": "execute_result"
    },
    {
     "data": {
      "image/png": "[encoded data removed]",
      "text/plain": [
       "<Figure size 640x480 with 1 Axes>"
      ]
     },
     "metadata": {},
     "output_type": "display_data"
    }
   ],
   "source": [
    "plt.plot(list(range(4)), mse_for, linestyle='-', marker='o')"
   ]
  },
  {
   "cell_type": "code",
   "execution_count": 33,
   "metadata": {},
   "outputs": [
    {
     "name": "stdout",
     "output_type": "stream",
     "text": [
      "MSE test com 4 variáveis: 30205907.462179832\n",
      "Erro médio com 4 variáveis: 2.456138845781694e-16\n",
      "\n"
     ]
    }
   ],
   "source": [
    "data_forward = multi_dim.Forward_selection(2)\n",
    "test_forward = LR(data_forward, np_y)\n",
    "\n",
    "BB_forward = test_forward.least_square()\n",
    "hat_forward = test_forward.prediction(data_forward)\n",
    "mse_forward = test_forward.MSE(hat_forward, np_y)\n",
    "\n",
    "\n",
    "# Para melhor interpretação podemos usar o erro médio\n",
    "erro_medio = np.mean(np_y - hat_forward) / np.mean(np_y)\n"
   ]
  }
 ],
 "metadata": {
  "kernelspec": {
   "display_name": "env",
   "language": "python",
   "name": "python3"
  },
  "language_info": {
   "codemirror_mode": {
    "name": "ipython",
    "version": 3
   },
   "file_extension": ".py",
   "mimetype": "text/x-python",
   "name": "python",
   "nbconvert_exporter": "python",
   "pygments_lexer": "ipython3",
   "version": "3.12.0"
  }
 },
 "nbformat": 4,
 "nbformat_minor": 2
}
